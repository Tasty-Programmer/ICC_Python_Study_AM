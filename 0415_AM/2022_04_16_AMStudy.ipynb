{
 "cells": [
  {
   "cell_type": "markdown",
   "source": [
    "# Print"
   ],
   "metadata": {
    "collapsed": false,
    "pycharm": {
     "name": "#%% md\n"
    }
   }
  },
  {
   "cell_type": "code",
   "execution_count": 1,
   "outputs": [
    {
     "name": "stdout",
     "output_type": "stream",
     "text": [
      "Hello World\n"
     ]
    }
   ],
   "source": [
    "print('Hello World')"
   ],
   "metadata": {
    "collapsed": false,
    "pycharm": {
     "name": "#%%\n"
    }
   }
  },
  {
   "cell_type": "markdown",
   "source": [
    "# 변수"
   ],
   "metadata": {
    "collapsed": false,
    "pycharm": {
     "name": "#%% md\n"
    }
   }
  },
  {
   "cell_type": "code",
   "execution_count": 11,
   "outputs": [
    {
     "data": {
      "text/plain": "str"
     },
     "execution_count": 11,
     "metadata": {},
     "output_type": "execute_result"
    }
   ],
   "source": [
    "a = 2\n",
    "b = 2.0\n",
    "c = '문'\n",
    "\n",
    "\n",
    "\n",
    "\n",
    "sum = a+b+c+d+e+f"
   ],
   "metadata": {
    "collapsed": false,
    "pycharm": {
     "name": "#%%\n"
    }
   }
  },
  {
   "cell_type": "code",
   "source": [
    "print(a+b)\n",
    "print(1+2)\n",
    "print(1-2)\n",
    "print(1*2)\n",
    "print(1/2)\n",
    "print(1%2)\n",
    "print('hello World\\n'*2)\n"
   ],
   "metadata": {
    "collapsed": false,
    "pycharm": {
     "name": "#%%\n"
    }
   },
   "execution_count": 21,
   "outputs": [
    {
     "name": "stdout",
     "output_type": "stream",
     "text": [
      "4.0\n",
      "3\n",
      "-1\n",
      "2\n",
      "0.5\n",
      "1\n",
      "hello World\thello World\t\n"
     ]
    }
   ]
  },
  {
   "cell_type": "code",
   "execution_count": 24,
   "outputs": [
    {
     "name": "stdout",
     "output_type": "stream",
     "text": [
      "합은? 300\n"
     ]
    }
   ],
   "source": [
    "x = 100\n",
    "y = 200\n",
    "#sum <- 출력해서 합은? sum\n",
    "sum = x+y\n",
    "print('합은?' , sum)\n"
   ],
   "metadata": {
    "collapsed": false,
    "pycharm": {
     "name": "#%%\n"
    }
   }
  },
  {
   "cell_type": "code",
   "execution_count": 27,
   "outputs": [
    {
     "name": "stdout",
     "output_type": "stream",
     "text": [
      "반지름 10 인 원의면적= 314.0\n"
     ]
    }
   ],
   "source": [
    "radius = 10\n",
    "PI = 3.14\n",
    "area = PI*radius*radius\n",
    "\n",
    "print('반지름',radius,'인 원의면적=',area)"
   ],
   "metadata": {
    "collapsed": false,
    "pycharm": {
     "name": "#%%\n"
    }
   }
  },
  {
   "cell_type": "markdown",
   "source": [
    "# 자료형"
   ],
   "metadata": {
    "collapsed": false,
    "pycharm": {
     "name": "#%% md\n"
    }
   }
  },
  {
   "cell_type": "code",
   "execution_count": 6,
   "outputs": [],
   "source": [
    "#표준 자료형\n",
    "#숫자 -> 정수 , 부동소수점 , 복소수\n",
    "#시퀀스 -> 튜플 , 리스트 , 문자열 , dictionary\n",
    "#Boolean"
   ],
   "metadata": {
    "collapsed": false,
    "pycharm": {
     "name": "#%%\n"
    }
   }
  },
  {
   "cell_type": "code",
   "execution_count": 29,
   "outputs": [
    {
     "data": {
      "text/plain": "float"
     },
     "execution_count": 29,
     "metadata": {},
     "output_type": "execute_result"
    }
   ],
   "source": [
    "type(12.30)"
   ],
   "metadata": {
    "collapsed": false,
    "pycharm": {
     "name": "#%%\n"
    }
   }
  },
  {
   "cell_type": "code",
   "execution_count": 6,
   "outputs": [],
   "source": [
    "#별까지의 거리 계산 프로그램\n",
    "#빛의 속도가 300000\n",
    "# 물체까지의 거리 4000000000\n",
    "# secs <- 초단위\n",
    "# 광년으로(lightyear) (60.0*60.0*24.0*365.0)\n",
    "# print('광년')"
   ],
   "metadata": {
    "collapsed": false,
    "pycharm": {
     "name": "#%%\n"
    }
   }
  },
  {
   "cell_type": "code",
   "execution_count": 33,
   "outputs": [],
   "source": [
    "PI =3.14\n",
    "radius = 5\n",
    "height = 10\n"
   ],
   "metadata": {
    "collapsed": false,
    "pycharm": {
     "name": "#%%\n"
    }
   }
  },
  {
   "cell_type": "code",
   "execution_count": 34,
   "outputs": [
    {
     "name": "stdout",
     "output_type": "stream",
     "text": [
      "부피 785.0\n"
     ]
    }
   ],
   "source": [
    "volume = PI * radius * radius * height\n",
    "\n",
    "print('부피',volume)"
   ],
   "metadata": {
    "collapsed": false,
    "pycharm": {
     "name": "#%%\n"
    }
   }
  },
  {
   "cell_type": "code",
   "execution_count": 6,
   "outputs": [],
   "source": [
    "# < > <= >=\n",
    "# == !=\n",
    "# += -=\n",
    "# == is != is not"
   ],
   "metadata": {
    "collapsed": false,
    "pycharm": {
     "name": "#%%\n"
    }
   }
  },
  {
   "cell_type": "code",
   "execution_count": 36,
   "outputs": [
    {
     "name": "stdout",
     "output_type": "stream",
     "text": [
      "3\n"
     ]
    },
    {
     "data": {
      "text/plain": "True"
     },
     "execution_count": 36,
     "metadata": {},
     "output_type": "execute_result"
    }
   ],
   "source": [
    "a = 1\n",
    "b = 2\n",
    "a+=b\n",
    "print(a)\n",
    "a != b"
   ],
   "metadata": {
    "collapsed": false,
    "pycharm": {
     "name": "#%%\n"
    }
   }
  },
  {
   "cell_type": "code",
   "execution_count": 37,
   "outputs": [
    {
     "name": "stdout",
     "output_type": "stream",
     "text": [
      " 민수는 안녕이라고 말하고 이상한 소리를 짖거렸습니다. Hello asdasdasdasdasdasdasdasdasdasdasdasd\n"
     ]
    }
   ],
   "source": [
    "msg = 'Hello asdasdasdasdasdasdasdasdasdasdasdasd'\n",
    "print(' 민수는 안녕이라고 말하고 이상한 소리를 짖거렸습니다.',msg)"
   ],
   "metadata": {
    "collapsed": false,
    "pycharm": {
     "name": "#%%\n"
    }
   }
  },
  {
   "cell_type": "code",
   "execution_count": 57,
   "outputs": [
    {
     "name": "stdout",
     "output_type": "stream",
     "text": [
      "hellohellohellohellohellohellohellohellohellohellohellohellohellohellohellohellohellohellohellohellohellohellohellohellohellohellohellohellohellohello\n",
      "300\n",
      "100200\n"
     ]
    }
   ],
   "source": [
    "a = 'hello'\n",
    "b = 'hello hello'\n",
    "a+b\n",
    "print(a * 30)\n",
    "print(100+200)\n",
    "print('100'+'200')\n"
   ],
   "metadata": {
    "collapsed": false,
    "pycharm": {
     "name": "#%%\n"
    }
   }
  },
  {
   "cell_type": "code",
   "execution_count": 45,
   "outputs": [
    {
     "name": "stdout",
     "output_type": "stream",
     "text": [
      "\n",
      "\n",
      "\t\n",
      "\\\"\n"
     ]
    }
   ],
   "source": [
    "print('\\n')\n",
    "print('\\t')\n",
    "print('\\\\'\n",
    "      '\\\"')"
   ],
   "metadata": {
    "collapsed": false,
    "pycharm": {
     "name": "#%%\n"
    }
   }
  },
  {
   "cell_type": "code",
   "execution_count": 47,
   "outputs": [
    {
     "name": "stdout",
     "output_type": "stream",
     "text": [
      "h\n",
      "d\n"
     ]
    }
   ],
   "source": [
    "a = 'hello World'\n",
    "print(a[0])\n",
    "print(a[-1])"
   ],
   "metadata": {
    "collapsed": false,
    "pycharm": {
     "name": "#%%\n"
    }
   }
  },
  {
   "cell_type": "code",
   "execution_count": 48,
   "outputs": [
    {
     "name": "stdout",
     "output_type": "stream",
     "text": [
      "K과P\n"
     ]
    }
   ],
   "source": [
    "a = 'Kim'\n",
    "b = 'Park'\n",
    "Firstname = a[0]+'과'+b[0]\n",
    "print(Firstname)"
   ],
   "metadata": {
    "collapsed": false,
    "pycharm": {
     "name": "#%%\n"
    }
   }
  },
  {
   "cell_type": "code",
   "execution_count": 6,
   "outputs": [],
   "source": [
    "a = 'By'\n",
    "b = 'The'\n",
    "c = 'Way'\n",
    "#btw~"
   ],
   "metadata": {
    "collapsed": false,
    "pycharm": {
     "name": "#%%\n"
    }
   }
  },
  {
   "cell_type": "code",
   "execution_count": 55,
   "outputs": [
    {
     "name": "stdout",
     "output_type": "stream",
     "text": [
      "Harry Potter\n",
      "HARRY POTTER\n"
     ]
    }
   ],
   "source": [
    "name = 'Harry Potter'\n",
    "name2 = 'Harry Parker'\n",
    "new_name = name2.replace('Parker','Potter')\n",
    "print(new_name)\n",
    "#lower_name = name.lower()\n",
    "upper_name = name.upper()\n",
    "\n",
    "print(upper_name)"
   ],
   "metadata": {
    "collapsed": false,
    "pycharm": {
     "name": "#%%\n"
    }
   }
  },
  {
   "cell_type": "code",
   "execution_count": 59,
   "outputs": [
    {
     "name": "stdout",
     "output_type": "stream",
     "text": [
      "\n",
      "----------\n",
      "오늘 상암 에서 야구 경기가 열렸습니다.\n",
      "삼성 과 LG 은 치열한 공방전을 벌였습니다.\n",
      "홍길동  가 맹활약을 펼쳤습니다.\n",
      "결국  삼성 가 LG 를 8:7 로 이겼습니다!\n"
     ]
    }
   ],
   "source": [
    "stadium = input('경기장은 어디입니까?')\n",
    "winner = input('이긴팀은 어디입니까?')\n",
    "loser = input('진팀은 어디입니까?')\n",
    "vip = input('우수 선수는 누구입니까?')\n",
    "score = input('스코어는 몇대 몇 입니까?')\n",
    "\n",
    "print(\"\")\n",
    "print('-'*10)\n",
    "print('오늘',stadium,'에서 야구 경기가 열렸습니다.')\n",
    "print(winner,'과',loser,'은 치열한 공방전을 벌였습니다.')\n",
    "print(vip,' 가 맹활약을 펼쳤습니다.')\n",
    "print('결국 ',winner,'가',loser,'를',score,'로 이겼습니다!')"
   ],
   "metadata": {
    "collapsed": false,
    "pycharm": {
     "name": "#%%\n"
    }
   }
  },
  {
   "cell_type": "code",
   "execution_count": null,
   "outputs": [],
   "source": [
    "price = (int)(input('물건값을 입력하시오 : '))\n",
    "print('===입력금액===')\n",
    "tha = (int)(input('1000원의 지폐갯수:'))\n",
    "fhun = (int)(input('500원의 동전갯수:'))\n",
    "hun = (int)(input('100원의 동전갯수:'))\n",
    "sum = (tha*1000) + (fhun *500) + (hun*100)\n",
    "give = sum - price\n",
    "give_fh = (int)(give / 500)\n",
    "give_h = (int)((give % 500) / 100)\n",
    "give_t = (int)((give % 100) / 10)\n",
    "give_o = give % 10\n",
    "print('===거스름돈 출력===')\n",
    "print('500원 : ',give_fh,'\\t100원 : ',give_h,'\\t10원 : ',give_t,'\\t1원 : ',give_o)"
   ],
   "metadata": {
    "collapsed": false,
    "pycharm": {
     "name": "#%%\n"
    }
   }
  },
  {
   "cell_type": "code",
   "execution_count": null,
   "outputs": [],
   "source": [],
   "metadata": {
    "collapsed": false,
    "pycharm": {
     "name": "#%%\n"
    }
   }
  },
  {
   "cell_type": "code",
   "execution_count": null,
   "outputs": [],
   "source": [],
   "metadata": {
    "collapsed": false,
    "pycharm": {
     "name": "#%%\n"
    }
   }
  },
  {
   "cell_type": "code",
   "execution_count": null,
   "outputs": [],
   "source": [],
   "metadata": {
    "collapsed": false,
    "pycharm": {
     "name": "#%%\n"
    }
   }
  },
  {
   "cell_type": "code",
   "execution_count": null,
   "outputs": [],
   "source": [],
   "metadata": {
    "collapsed": false,
    "pycharm": {
     "name": "#%%\n"
    }
   }
  },
  {
   "cell_type": "code",
   "execution_count": null,
   "outputs": [],
   "source": [],
   "metadata": {
    "collapsed": false,
    "pycharm": {
     "name": "#%%\n"
    }
   }
  },
  {
   "cell_type": "code",
   "execution_count": null,
   "outputs": [],
   "source": [],
   "metadata": {
    "collapsed": false,
    "pycharm": {
     "name": "#%%\n"
    }
   }
  },
  {
   "cell_type": "code",
   "execution_count": 6,
   "outputs": [],
   "source": [],
   "metadata": {
    "collapsed": false,
    "pycharm": {
     "name": "#%%\n"
    }
   }
  }
 ],
 "metadata": {
  "kernelspec": {
   "display_name": "Python 3",
   "language": "python",
   "name": "python3"
  },
  "language_info": {
   "codemirror_mode": {
    "name": "ipython",
    "version": 2
   },
   "file_extension": ".py",
   "mimetype": "text/x-python",
   "name": "python",
   "nbconvert_exporter": "python",
   "pygments_lexer": "ipython2",
   "version": "2.7.6"
  }
 },
 "nbformat": 4,
 "nbformat_minor": 0
}