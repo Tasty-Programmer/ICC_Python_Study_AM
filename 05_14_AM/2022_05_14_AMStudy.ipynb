{
 "cells": [
  {
   "cell_type": "code",
   "execution_count": 1,
   "metadata": {
    "collapsed": true
   },
   "outputs": [],
   "source": [
    "# OOP = object-oriented programming\n",
    "# 객체 지향 프로그래밍\n",
    "# 캡슐화 , 상속 , 다형성\n",
    "# 캡슐화 관련된 데이터 , 데이터를 움직이는 알고리즘 ====> 한번만 쓰지않아요 검색 삭제 수정\n",
    "# 검색 알고리즘 < == 특정 몇개를 검색 or 전체를 검색 or 특정한 기준으로 검색\n",
    "# 알약 사용하는 이유 -> 보관용이 , 영양분을 모을 수 있어서 (가루약도 동일?) 반례가 생길수있다.<< 예외처리를 하는겁니다.\n",
    "# 알약 vs 가루약 -> 가장 큰 이유! 알약 캡슐화 << 불러와서 특정 몇개에 해당하는 알고리즘 수정\n",
    "# 캡슐화 두번째 특징 -> 데이터를 감출 수 있다. 외부 세계와의 상호작용은 메서드 >>> 라이브러리 만들어서 사용한다.\n",
    "# 두번째 상속\n",
    "# 상속 -> ? 받아서 쓴다 <<< 부모클래스 -> 자식클래스 -> 기존 코드를 재사용한다\n",
    "# 다형성\n",
    "# 개념적으로 동일한 작업을 하는 함수가 많이 생성된다 <<< 똑같은 이름을 부여해서 코드를 간결하게 한다.\n",
    "# 절차지향과 객체 지향의 차이점\n",
    "# 수정하기 용이하다 , 절차지향 의 큰 특징 ----> 개발의 측면에서 효율성 이란것? 시간을 적게쓴다 == 비용이 적게든다\n",
    "# 가독성 ==> 전적으로 개발의 몫\n",
    "# 코드 만들기 편하다 ( 수정또한 ) , 디버깅 쉽다\n",
    "# 파이썬 OOP 언어이다."
   ]
  },
  {
   "cell_type": "code",
   "execution_count": 5,
   "outputs": [
    {
     "name": "stdout",
     "output_type": "stream",
     "text": [
      "honggildong\n",
      "23\n"
     ]
    }
   ],
   "source": [
    "#dict = {키:키에 해당되는 밸류값,키:키에 해당되는 밸류값 }\n",
    "personal_info = {\n",
    "    'name':'honggildong',\n",
    "    'age': 23,\n",
    "    'weight': 85\n",
    "}\n",
    "print(personal_info['name'])\n",
    "print(personal_info['age'])"
   ],
   "metadata": {
    "collapsed": false,
    "pycharm": {
     "name": "#%%\n"
    }
   }
  },
  {
   "cell_type": "code",
   "execution_count": 21,
   "outputs": [
    {
     "name": "stdout",
     "output_type": "stream",
     "text": [
      "{'name': 'jeonuchi', 'age': 31, 'weight': 90}\n"
     ]
    }
   ],
   "source": [
    "personal_info2 = {}\n",
    "personal_info2['name']='jeonuchi'\n",
    "personal_info2['age'] = 31\n",
    "personal_info2['weight'] = 90\n",
    "\n",
    "#del personal_info2['age']\n",
    "\n",
    "\n",
    "print(personal_info2)"
   ],
   "metadata": {
    "collapsed": false,
    "pycharm": {
     "name": "#%%\n"
    }
   }
  },
  {
   "cell_type": "code",
   "execution_count": 24,
   "outputs": [
    {
     "name": "stdout",
     "output_type": "stream",
     "text": [
      "name\n",
      "age\n",
      "weight\n",
      "jeonuchi\n",
      "31\n",
      "90\n",
      "key= name\n",
      "value= jeonuchi\n",
      "key= age\n",
      "value= 31\n",
      "key= weight\n",
      "value= 90\n"
     ]
    }
   ],
   "source": [
    "for key in personal_info2:\n",
    "    print(key)\n",
    "for value in personal_info2.values():\n",
    "    print(value)\n",
    "for key,value in personal_info2.items():\n",
    "    print('key=',key)\n",
    "    print('value=',value)"
   ],
   "metadata": {
    "collapsed": false,
    "pycharm": {
     "name": "#%%\n"
    }
   }
  },
  {
   "cell_type": "code",
   "execution_count": 16,
   "outputs": [
    {
     "name": "stdout",
     "output_type": "stream",
     "text": [
      "1\n",
      "None\n",
      "dict_keys(['x', 'y', 'z'])\n",
      "{'x': 1, 'y': 2, 'z': 3}\n"
     ]
    }
   ],
   "source": [
    "a = {'x':1,'y':2}\n",
    "b = {'z':3}\n",
    "print(a.get('x'))\n",
    "print(a.get('z'))\n",
    "a.update(b)\n",
    "print(a.keys())\n",
    "print(a)"
   ],
   "metadata": {
    "collapsed": false,
    "pycharm": {
     "name": "#%%\n"
    }
   }
  },
  {
   "cell_type": "code",
   "execution_count": 31,
   "outputs": [
    {
     "name": "stdout",
     "output_type": "stream",
     "text": [
      "<class 'set'>\n",
      "{1, 2, 3, 4}\n"
     ]
    }
   ],
   "source": [
    "# 집합\n",
    "#{}\n",
    "s = {3,5,7}\n",
    "s1 = {'1',3,5,(1,3)}\n",
    "s2 = {}\n",
    "s2 = set([1,1,1,1,1,1,1,1,1,1,1,2,3,4])\n",
    "# set 은 중복을 허용하지 않고 중복된 값이 입력되어도 자동으로 중복이 제거되서 출력 됩니다~\n",
    "type(s)\n",
    "type(s1)\n",
    "print(type(s2))\n",
    "print(s2)"
   ],
   "metadata": {
    "collapsed": false,
    "pycharm": {
     "name": "#%%\n"
    }
   }
  },
  {
   "cell_type": "code",
   "execution_count": 35,
   "outputs": [
    {
     "data": {
      "text/plain": "False"
     },
     "execution_count": 35,
     "metadata": {},
     "output_type": "execute_result"
    }
   ],
   "source": [
    "1 not in s2\n",
    "1 in s2\n",
    "5 in s2"
   ],
   "metadata": {
    "collapsed": false,
    "pycharm": {
     "name": "#%%\n"
    }
   }
  },
  {
   "cell_type": "code",
   "execution_count": 48,
   "outputs": [
    {
     "name": "stdout",
     "output_type": "stream",
     "text": [
      "{1, 2, 3, 100, 4, 50, 150}\n",
      "{1, 2, 3, 100, 4, 50, 150}\n"
     ]
    }
   ],
   "source": [
    "s3 = {100,150}\n",
    "s3.add(50)\n",
    "s3.update([1,2,3,4])\n",
    "#s3.remove(20)\n",
    "s3.discard(20)\n",
    "#s4 = s3.copy()\n",
    "s4=set(s3)\n",
    "\n",
    "print(s3)\n",
    "print(s4)"
   ],
   "metadata": {
    "collapsed": false,
    "pycharm": {
     "name": "#%%\n"
    }
   }
  },
  {
   "cell_type": "code",
   "execution_count": 84,
   "outputs": [],
   "source": [
    "a = {1,2,3,4,5}\n",
    "b = {3,4,5,6,7}\n",
    "b2 = {1,2,3}\n",
    "#c = a | b\n",
    "#c = a & b\n",
    "#c = a - b\n",
    "#c = a ^ b\n",
    "#a |= b\n",
    "#a &= b\n",
    "#print(a)\n",
    "\n",
    "#print(c)"
   ],
   "metadata": {
    "collapsed": false,
    "pycharm": {
     "name": "#%%\n"
    }
   }
  },
  {
   "cell_type": "code",
   "execution_count": 89,
   "outputs": [
    {
     "name": "stdout",
     "output_type": "stream",
     "text": [
      "True\n",
      "False\n",
      "{1, 2, 6, 7}\n"
     ]
    }
   ],
   "source": [
    "c = a.union(b)\n",
    "c = a.intersection(b)\n",
    "c = a.difference(b)\n",
    "c = a.symmetric_difference(b)\n",
    "#부분 집합\n",
    "print(a.issuperset(b2))\n",
    "print(a.isdisjoint(b))\n",
    "print(c)"
   ],
   "metadata": {
    "collapsed": false,
    "pycharm": {
     "name": "#%%\n"
    }
   }
  },
  {
   "cell_type": "code",
   "execution_count": 110,
   "outputs": [
    {
     "name": "stdout",
     "output_type": "stream",
     "text": [
      "1\n",
      "[1, 2, 3, 4, 5, 6, 7, 8, 9, 10, 1]\n"
     ]
    }
   ],
   "source": [
    "a = [1,'a',3.0,(1,2)]\n",
    "type(a)\n",
    "a = []\n",
    "a = list()\n",
    "a1 = [1,2,3,4,5,6,7,8,9,10]\n",
    "a1[9]\n",
    "a1[0] = '1'\n",
    "a1[-1]\n",
    "a1.append(1)\n",
    "a1.insert(1,1)\n",
    "del a1[0]\n",
    "print(a1[-1])\n",
    "print(a1)"
   ],
   "metadata": {
    "collapsed": false,
    "pycharm": {
     "name": "#%%\n"
    }
   }
  },
  {
   "cell_type": "code",
   "execution_count": 119,
   "outputs": [
    {
     "name": "stdout",
     "output_type": "stream",
     "text": [
      "(1, 0, 2, 3, 4, 6212, 23)\n",
      "True\n",
      "4\n",
      "x\n",
      "y\n",
      "z\n"
     ]
    }
   ],
   "source": [
    "a = (1,2,3,4)\n",
    "a1 = (1,0,2,3,4,6212,23)\n",
    "str1 = 'xyz'\n",
    "print(a1)\n",
    "print(1 in a)\n",
    "print(len(a))\n",
    "print(str1[0])\n",
    "print(str1[1])\n",
    "print(str1[2])\n"
   ],
   "metadata": {
    "collapsed": false,
    "pycharm": {
     "name": "#%%\n"
    }
   }
  },
  {
   "cell_type": "code",
   "execution_count": 127,
   "outputs": [
    {
     "name": "stdout",
     "output_type": "stream",
     "text": [
      "a\n",
      "1\n",
      "1\n"
     ]
    }
   ],
   "source": [
    "string = 'applesiri'\n",
    "tuple_object = (1,2,3,4)\n",
    "list_object = [1,2,3,4]\n",
    "\n",
    "#인덱싱 indexing\n",
    "print(string[0])\n",
    "print(tuple_object[0])\n",
    "print(list_object[0])"
   ],
   "metadata": {
    "collapsed": false,
    "pycharm": {
     "name": "#%%\n"
    }
   }
  },
  {
   "cell_type": "code",
   "execution_count": 130,
   "outputs": [
    {
     "name": "stdout",
     "output_type": "stream",
     "text": [
      "apple\n"
     ]
    }
   ],
   "source": [
    "list_object[slice(0,2)]\n",
    "print(string[0:5])\n",
    "# slice(start,end,step)"
   ],
   "metadata": {
    "collapsed": false,
    "pycharm": {
     "name": "#%%\n"
    }
   }
  },
  {
   "cell_type": "code",
   "execution_count": null,
   "outputs": [],
   "source": [],
   "metadata": {
    "collapsed": false,
    "pycharm": {
     "name": "#%%\n"
    }
   }
  },
  {
   "cell_type": "code",
   "execution_count": null,
   "outputs": [],
   "source": [],
   "metadata": {
    "collapsed": false,
    "pycharm": {
     "name": "#%%\n"
    }
   }
  },
  {
   "cell_type": "code",
   "execution_count": null,
   "outputs": [],
   "source": [],
   "metadata": {
    "collapsed": false,
    "pycharm": {
     "name": "#%%\n"
    }
   }
  },
  {
   "cell_type": "code",
   "execution_count": null,
   "outputs": [],
   "source": [],
   "metadata": {
    "collapsed": false,
    "pycharm": {
     "name": "#%%\n"
    }
   }
  },
  {
   "cell_type": "code",
   "execution_count": null,
   "outputs": [],
   "source": [],
   "metadata": {
    "collapsed": false,
    "pycharm": {
     "name": "#%%\n"
    }
   }
  },
  {
   "cell_type": "code",
   "execution_count": null,
   "outputs": [],
   "source": [],
   "metadata": {
    "collapsed": false,
    "pycharm": {
     "name": "#%%\n"
    }
   }
  },
  {
   "cell_type": "code",
   "execution_count": null,
   "outputs": [],
   "source": [],
   "metadata": {
    "collapsed": false,
    "pycharm": {
     "name": "#%%\n"
    }
   }
  },
  {
   "cell_type": "code",
   "execution_count": null,
   "outputs": [],
   "source": [],
   "metadata": {
    "collapsed": false,
    "pycharm": {
     "name": "#%%\n"
    }
   }
  }
 ],
 "metadata": {
  "kernelspec": {
   "display_name": "Python 3",
   "language": "python",
   "name": "python3"
  },
  "language_info": {
   "codemirror_mode": {
    "name": "ipython",
    "version": 2
   },
   "file_extension": ".py",
   "mimetype": "text/x-python",
   "name": "python",
   "nbconvert_exporter": "python",
   "pygments_lexer": "ipython2",
   "version": "2.7.6"
  }
 },
 "nbformat": 4,
 "nbformat_minor": 0
}